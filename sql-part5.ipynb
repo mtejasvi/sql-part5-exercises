{
    "metadata": {
        "kernelspec": {
            "name": "SQL",
            "display_name": "SQL",
            "language": "sql"
        },
        "language_info": {
            "name": "sql",
            "version": ""
        }
    },
    "nbformat_minor": 2,
    "nbformat": 4,
    "cells": [
        {
            "cell_type": "markdown",
            "source": [
                "# Exercises: Creating, Updating, and Destroying Objects\n",
                "\n",
                "For the exercises, you will be working with objects and data you create. Before opening this notebook, make sure that you have set up the new connection to the server and that you have located the database and your schema.\n",
                "\n",
                "## Object Creation\n",
                "\n",
                "Before coding, think of three things you want to make. These could be coding projects, new recipes, or planned projects for a woodworking hobby. Brainstorm the appropriate column names and data types as well.\n",
                "\n",
                "Create a table under your schema called `planned_makes`."
            ],
            "metadata": {
                "azdata_cell_guid": "9d51c166-0c19-4f27-a422-2a6cf596bfb2"
            },
            "attachments": {}
        },
        {
            "cell_type": "code",
            "source": [
                "create table JunkDB_STL_May2023.tejasvi.planned_makes(make_id INT PRIMARY KEY,\r\n",
                "    make_name VARCHAR(50) NOT NULL,\r\n",
                "    planned_date DATE,\r\n",
                "    description TEXT\r\n",
                ");"
            ],
            "metadata": {
                "azdata_cell_guid": "d9238911-6f81-4f01-980d-b584307effaf",
                "language": "sql",
                "tags": [
                    "hide_input"
                ]
            },
            "outputs": [],
            "execution_count": null
        },
        {
            "cell_type": "code",
            "source": [
                "CREATE TABLE JunkDB_STL_May2023.tejasvi.planned_makes (\r\n",
                "    project_id INT PRIMARY KEY,\r\n",
                "    project_type VARCHAR(50) NOT NULL,\r\n",
                "    project_name VARCHAR(255) NOT NULL,\r\n",
                "    planned_start_date DATE,\r\n",
                "    estimated_completion_date DATE,\r\n",
                "    description TEXT,\r\n",
                "    ingredients TEXT,\r\n",
                "    notes TEXT,\r\n",
                "    materials TEXT,\r\n",
                "    tools TEXT\r\n",
                ");"
            ],
            "metadata": {
                "language": "sql",
                "azdata_cell_guid": "6d18d1eb-788a-4d70-a433-9ed77aa46117"
            },
            "outputs": [
                {
                    "output_type": "display_data",
                    "data": {
                        "text/html": "Commands completed successfully."
                    },
                    "metadata": {}
                },
                {
                    "output_type": "display_data",
                    "data": {
                        "text/html": "Total execution time: 00:00:00.053"
                    },
                    "metadata": {}
                }
            ],
            "execution_count": 3
        },
        {
            "cell_type": "markdown",
            "source": [
                "Add three rows to your table that are your planned makes."
            ],
            "metadata": {
                "azdata_cell_guid": "83cdf34d-8c4f-4fa1-a14e-77384b19d734"
            }
        },
        {
            "cell_type": "code",
            "source": [
                "INSERT INTO JunkDB_STL_May2023.tejasvi.planned_makes (project_id, project_type, project_name, planned_start_date, estimated_completion_date,description)\r\n",
                "VALUES (1, 'Coding', 'Develop a Task Manager', '2023-09-01', '2023-09-30', 'Create a web-based task manager application.');"
            ],
            "metadata": {
                "azdata_cell_guid": "e7cff9cb-87ba-4c7b-98f2-eaf445e8719c",
                "language": "sql"
            },
            "outputs": [
                {
                    "output_type": "display_data",
                    "data": {
                        "text/html": "(1 row affected)"
                    },
                    "metadata": {}
                },
                {
                    "output_type": "display_data",
                    "data": {
                        "text/html": "Total execution time: 00:00:00.051"
                    },
                    "metadata": {}
                }
            ],
            "execution_count": 4
        },
        {
            "cell_type": "code",
            "source": [
                "INSERT INTO JunkDB_STL_May2023.tejasvi.planned_makes (project_id, project_type, project_name, planned_start_date, ingredients, notes)\r\n",
                "VALUES (2, 'Cooking', 'Create a Vegan Pasta Dish', '2023-08-25', 'List of ingredients...', 'Experiment with different vegan cheeses.');"
            ],
            "metadata": {
                "language": "sql",
                "azdata_cell_guid": "9e796a27-fe07-4c7c-b6af-feac1f6baa15"
            },
            "outputs": [
                {
                    "output_type": "error",
                    "evalue": "Msg 2627, Level 14, State 1, Line 1\r\nViolation of PRIMARY KEY constraint 'PK__planned___BC799E1FE5A10A60'. Cannot insert duplicate key in object 'tejasvi.planned_makes'. The duplicate key value is (2).",
                    "ename": "",
                    "traceback": []
                },
                {
                    "output_type": "display_data",
                    "data": {
                        "text/html": "The statement has been terminated."
                    },
                    "metadata": {}
                },
                {
                    "output_type": "display_data",
                    "data": {
                        "text/html": "Total execution time: 00:00:00.052"
                    },
                    "metadata": {}
                }
            ],
            "execution_count": 9
        },
        {
            "cell_type": "code",
            "source": [
                "INSERT INTO JunkDB_STL_May2023.tejasvi.planned_makes (project_id, project_type, project_name, planned_start_date, estimated_completion_date, materials, tools)\r\n",
                "VALUES (3, 'Woodworking', 'Build a Rustic Bookshelf', '2023-10-15', '2023-10-30', 'List of materials...', 'List of tools...');"
            ],
            "metadata": {
                "language": "sql",
                "azdata_cell_guid": "1a1e7c04-8fe5-4304-990b-6e1138546fdf"
            },
            "outputs": [
                {
                    "output_type": "display_data",
                    "data": {
                        "text/html": "(1 row affected)"
                    },
                    "metadata": {}
                },
                {
                    "output_type": "display_data",
                    "data": {
                        "text/html": "Total execution time: 00:00:00.042"
                    },
                    "metadata": {}
                }
            ],
            "execution_count": 7
        },
        {
            "cell_type": "code",
            "source": [
                "select * from JunkDB_STL_May2023.tejasvi.planned_makes"
            ],
            "metadata": {
                "azdata_cell_guid": "f4598ef9-bc1e-41a5-9bad-80a4b0460bdc",
                "language": "sql"
            },
            "outputs": [
                {
                    "output_type": "display_data",
                    "data": {
                        "text/html": "(3 rows affected)"
                    },
                    "metadata": {}
                },
                {
                    "output_type": "display_data",
                    "data": {
                        "text/html": "Total execution time: 00:00:00.076"
                    },
                    "metadata": {}
                },
                {
                    "output_type": "execute_result",
                    "metadata": {},
                    "execution_count": 8,
                    "data": {
                        "application/vnd.dataresource+json": {
                            "schema": {
                                "fields": [
                                    {
                                        "name": "project_id"
                                    },
                                    {
                                        "name": "project_type"
                                    },
                                    {
                                        "name": "project_name"
                                    },
                                    {
                                        "name": "planned_start_date"
                                    },
                                    {
                                        "name": "estimated_completion_date"
                                    },
                                    {
                                        "name": "description"
                                    },
                                    {
                                        "name": "ingredients"
                                    },
                                    {
                                        "name": "notes"
                                    },
                                    {
                                        "name": "materials"
                                    },
                                    {
                                        "name": "tools"
                                    }
                                ]
                            },
                            "data": [
                                {
                                    "project_id": "1",
                                    "project_type": "Coding",
                                    "project_name": "Develop a Task Manager",
                                    "planned_start_date": "2023-09-01",
                                    "estimated_completion_date": "2023-09-30",
                                    "description": "Create a web-based task manager application.",
                                    "ingredients": "NULL",
                                    "notes": "NULL",
                                    "materials": "NULL",
                                    "tools": "NULL"
                                },
                                {
                                    "project_id": "2",
                                    "project_type": "Cooking",
                                    "project_name": "Create a Vegan Pasta Dish",
                                    "planned_start_date": "2023-08-25",
                                    "estimated_completion_date": "NULL",
                                    "description": "NULL",
                                    "ingredients": "List of ingredients...",
                                    "notes": "Experiment with different vegan cheeses.",
                                    "materials": "NULL",
                                    "tools": "NULL"
                                },
                                {
                                    "project_id": "3",
                                    "project_type": "Woodworking",
                                    "project_name": "Build a Rustic Bookshelf",
                                    "planned_start_date": "2023-10-15",
                                    "estimated_completion_date": "2023-10-30",
                                    "description": "NULL",
                                    "ingredients": "NULL",
                                    "notes": "NULL",
                                    "materials": "List of materials...",
                                    "tools": "List of tools..."
                                }
                            ]
                        },
                        "text/html": [
                            "<table>",
                            "<tr><th>project_id</th><th>project_type</th><th>project_name</th><th>planned_start_date</th><th>estimated_completion_date</th><th>description</th><th>ingredients</th><th>notes</th><th>materials</th><th>tools</th></tr>",
                            "<tr><td>1</td><td>Coding</td><td>Develop a Task Manager</td><td>2023-09-01</td><td>2023-09-30</td><td>Create a web-based task manager application.</td><td>NULL</td><td>NULL</td><td>NULL</td><td>NULL</td></tr>",
                            "<tr><td>2</td><td>Cooking</td><td>Create a Vegan Pasta Dish</td><td>2023-08-25</td><td>NULL</td><td>NULL</td><td>List of ingredients...</td><td>Experiment with different vegan cheeses.</td><td>NULL</td><td>NULL</td></tr>",
                            "<tr><td>3</td><td>Woodworking</td><td>Build a Rustic Bookshelf</td><td>2023-10-15</td><td>2023-10-30</td><td>NULL</td><td>NULL</td><td>NULL</td><td>List of materials...</td><td>List of tools...</td></tr>",
                            "</table>"
                        ]
                    }
                }
            ],
            "execution_count": 8
        },
        {
            "cell_type": "code",
            "source": [
                "select * from JunkDB_STL_May2023.tejasvi.planned_makes"
            ],
            "metadata": {
                "language": "sql",
                "azdata_cell_guid": "fe728b67-1604-4550-bee3-22718761aba3"
            },
            "outputs": [
                {
                    "output_type": "display_data",
                    "data": {
                        "text/html": "(3 rows affected)"
                    },
                    "metadata": {}
                },
                {
                    "output_type": "display_data",
                    "data": {
                        "text/html": "Total execution time: 00:00:00.046"
                    },
                    "metadata": {}
                },
                {
                    "output_type": "execute_result",
                    "metadata": {},
                    "execution_count": 10,
                    "data": {
                        "application/vnd.dataresource+json": {
                            "schema": {
                                "fields": [
                                    {
                                        "name": "project_id"
                                    },
                                    {
                                        "name": "project_type"
                                    },
                                    {
                                        "name": "project_name"
                                    },
                                    {
                                        "name": "planned_start_date"
                                    },
                                    {
                                        "name": "estimated_completion_date"
                                    },
                                    {
                                        "name": "description"
                                    },
                                    {
                                        "name": "ingredients"
                                    },
                                    {
                                        "name": "notes"
                                    },
                                    {
                                        "name": "materials"
                                    },
                                    {
                                        "name": "tools"
                                    }
                                ]
                            },
                            "data": [
                                {
                                    "project_id": "1",
                                    "project_type": "Coding",
                                    "project_name": "Develop a Task Manager",
                                    "planned_start_date": "2023-09-01",
                                    "estimated_completion_date": "2023-09-30",
                                    "description": "Create a web-based task manager application.",
                                    "ingredients": "NULL",
                                    "notes": "NULL",
                                    "materials": "NULL",
                                    "tools": "NULL"
                                },
                                {
                                    "project_id": "2",
                                    "project_type": "Cooking",
                                    "project_name": "Create a Vegan Pasta Dish",
                                    "planned_start_date": "2023-08-25",
                                    "estimated_completion_date": "NULL",
                                    "description": "NULL",
                                    "ingredients": "List of ingredients...",
                                    "notes": "Experiment with different vegan cheeses.",
                                    "materials": "NULL",
                                    "tools": "NULL"
                                },
                                {
                                    "project_id": "3",
                                    "project_type": "Woodworking",
                                    "project_name": "Build a Rustic Bookshelf",
                                    "planned_start_date": "2023-10-15",
                                    "estimated_completion_date": "2023-10-30",
                                    "description": "NULL",
                                    "ingredients": "NULL",
                                    "notes": "NULL",
                                    "materials": "List of materials...",
                                    "tools": "List of tools..."
                                }
                            ]
                        },
                        "text/html": [
                            "<table>",
                            "<tr><th>project_id</th><th>project_type</th><th>project_name</th><th>planned_start_date</th><th>estimated_completion_date</th><th>description</th><th>ingredients</th><th>notes</th><th>materials</th><th>tools</th></tr>",
                            "<tr><td>1</td><td>Coding</td><td>Develop a Task Manager</td><td>2023-09-01</td><td>2023-09-30</td><td>Create a web-based task manager application.</td><td>NULL</td><td>NULL</td><td>NULL</td><td>NULL</td></tr>",
                            "<tr><td>2</td><td>Cooking</td><td>Create a Vegan Pasta Dish</td><td>2023-08-25</td><td>NULL</td><td>NULL</td><td>List of ingredients...</td><td>Experiment with different vegan cheeses.</td><td>NULL</td><td>NULL</td></tr>",
                            "<tr><td>3</td><td>Woodworking</td><td>Build a Rustic Bookshelf</td><td>2023-10-15</td><td>2023-10-30</td><td>NULL</td><td>NULL</td><td>NULL</td><td>List of materials...</td><td>List of tools...</td></tr>",
                            "</table>"
                        ]
                    }
                }
            ],
            "execution_count": 10
        },
        {
            "cell_type": "code",
            "source": [
                "select * from JunkDB_STL_May2023.tejasvi.planned_makes"
            ],
            "metadata": {
                "language": "sql",
                "azdata_cell_guid": "f0408e50-76c7-4819-8af3-d76c51d572f2"
            },
            "outputs": [
                {
                    "output_type": "display_data",
                    "data": {
                        "text/html": "(3 rows affected)"
                    },
                    "metadata": {}
                },
                {
                    "output_type": "display_data",
                    "data": {
                        "text/html": "Total execution time: 00:00:00.050"
                    },
                    "metadata": {}
                },
                {
                    "output_type": "execute_result",
                    "metadata": {},
                    "execution_count": 13,
                    "data": {
                        "application/vnd.dataresource+json": {
                            "schema": {
                                "fields": [
                                    {
                                        "name": "project_id"
                                    },
                                    {
                                        "name": "project_type"
                                    },
                                    {
                                        "name": "project_name"
                                    },
                                    {
                                        "name": "planned_start_date"
                                    },
                                    {
                                        "name": "estimated_completion_date"
                                    },
                                    {
                                        "name": "description"
                                    },
                                    {
                                        "name": "ingredients"
                                    },
                                    {
                                        "name": "notes"
                                    },
                                    {
                                        "name": "materials"
                                    },
                                    {
                                        "name": "tools"
                                    }
                                ]
                            },
                            "data": [
                                {
                                    "project_id": "1",
                                    "project_type": "Coding",
                                    "project_name": "Develop a Task Manager",
                                    "planned_start_date": "2023-09-01",
                                    "estimated_completion_date": "2023-09-30",
                                    "description": "Create a web-based task manager application.",
                                    "ingredients": "NULL",
                                    "notes": "NULL",
                                    "materials": "NULL",
                                    "tools": "NULL"
                                },
                                {
                                    "project_id": "2",
                                    "project_type": "Cooking",
                                    "project_name": "Create a Vegan Pasta Dish",
                                    "planned_start_date": "2023-08-25",
                                    "estimated_completion_date": "2023-08-25",
                                    "description": "Make a Alfredo sauce for preparing pasta",
                                    "ingredients": "List of ingredients...",
                                    "notes": "Experiment with different vegan cheeses.",
                                    "materials": "flour,oil,salt",
                                    "tools": "pizza cutter,wooden plate"
                                },
                                {
                                    "project_id": "3",
                                    "project_type": "Woodworking",
                                    "project_name": "Build a Rustic Bookshelf",
                                    "planned_start_date": "2023-10-15",
                                    "estimated_completion_date": "2023-10-30",
                                    "description": "NULL",
                                    "ingredients": "NULL",
                                    "notes": "NULL",
                                    "materials": "List of materials...",
                                    "tools": "List of tools..."
                                }
                            ]
                        },
                        "text/html": [
                            "<table>",
                            "<tr><th>project_id</th><th>project_type</th><th>project_name</th><th>planned_start_date</th><th>estimated_completion_date</th><th>description</th><th>ingredients</th><th>notes</th><th>materials</th><th>tools</th></tr>",
                            "<tr><td>1</td><td>Coding</td><td>Develop a Task Manager</td><td>2023-09-01</td><td>2023-09-30</td><td>Create a web-based task manager application.</td><td>NULL</td><td>NULL</td><td>NULL</td><td>NULL</td></tr>",
                            "<tr><td>2</td><td>Cooking</td><td>Create a Vegan Pasta Dish</td><td>2023-08-25</td><td>2023-08-25</td><td>Make a Alfredo sauce for preparing pasta</td><td>List of ingredients...</td><td>Experiment with different vegan cheeses.</td><td>flour,oil,salt</td><td>pizza cutter,wooden plate</td></tr>",
                            "<tr><td>3</td><td>Woodworking</td><td>Build a Rustic Bookshelf</td><td>2023-10-15</td><td>2023-10-30</td><td>NULL</td><td>NULL</td><td>NULL</td><td>List of materials...</td><td>List of tools...</td></tr>",
                            "</table>"
                        ]
                    }
                }
            ],
            "execution_count": 13
        },
        {
            "cell_type": "markdown",
            "source": [
                "## Update a Row\n",
                "\n",
                "Change different values in one of your three rows."
            ],
            "metadata": {
                "azdata_cell_guid": "4a39b8d4-ae97-4e09-8336-c5fc6a00d76c"
            },
            "attachments": {}
        },
        {
            "cell_type": "code",
            "source": [
                "update JunkDB_STL_May2023.tejasvi.planned_makes set estimated_completion_date = '2023-08-25',description= 'Make a Alfredo sauce for preparing pasta',materials='flour,oil,salt',tools='pizza cutter,wooden plate'\r\n",
                "where project_type='Cooking'"
            ],
            "metadata": {
                "azdata_cell_guid": "7409c695-9581-4ad8-b03a-574d2c4c87cb",
                "language": "sql",
                "tags": [
                    "hide_input"
                ]
            },
            "outputs": [
                {
                    "output_type": "display_data",
                    "data": {
                        "text/html": "(1 row affected)"
                    },
                    "metadata": {}
                },
                {
                    "output_type": "display_data",
                    "data": {
                        "text/html": "Total execution time: 00:00:00.058"
                    },
                    "metadata": {}
                }
            ],
            "execution_count": 12
        },
        {
            "cell_type": "markdown",
            "source": [
                "## Delete a Row\n",
                "\n",
                "Delete one of the rows from your table."
            ],
            "metadata": {
                "azdata_cell_guid": "95e91a6e-9038-42d9-9401-5738842aba17"
            }
        },
        {
            "cell_type": "code",
            "source": [
                "delete from JunkDB_STL_May2023.tejasvi.planned_makes where project_type='Coding'"
            ],
            "metadata": {
                "azdata_cell_guid": "749c748f-19b5-4c69-9004-b6b20216616a",
                "language": "sql"
            },
            "outputs": [
                {
                    "output_type": "display_data",
                    "data": {
                        "text/html": "(1 row affected)"
                    },
                    "metadata": {}
                },
                {
                    "output_type": "display_data",
                    "data": {
                        "text/html": "Total execution time: 00:00:00.046"
                    },
                    "metadata": {}
                }
            ],
            "execution_count": 14
        },
        {
            "cell_type": "code",
            "source": [
                "select * from JunkDB_STL_May2023.tejasvi.planned_makes"
            ],
            "metadata": {
                "language": "sql",
                "azdata_cell_guid": "a3513c9c-a887-438a-ad89-14ba1500c8bc"
            },
            "outputs": [
                {
                    "output_type": "display_data",
                    "data": {
                        "text/html": "(2 rows affected)"
                    },
                    "metadata": {}
                },
                {
                    "output_type": "display_data",
                    "data": {
                        "text/html": "Total execution time: 00:00:00.047"
                    },
                    "metadata": {}
                },
                {
                    "output_type": "execute_result",
                    "metadata": {},
                    "execution_count": 16,
                    "data": {
                        "application/vnd.dataresource+json": {
                            "schema": {
                                "fields": [
                                    {
                                        "name": "project_id"
                                    },
                                    {
                                        "name": "project_type"
                                    },
                                    {
                                        "name": "project_name"
                                    },
                                    {
                                        "name": "planned_start_date"
                                    },
                                    {
                                        "name": "estimated_completion_date"
                                    },
                                    {
                                        "name": "description"
                                    },
                                    {
                                        "name": "ingredients"
                                    },
                                    {
                                        "name": "notes"
                                    },
                                    {
                                        "name": "materials"
                                    },
                                    {
                                        "name": "tools"
                                    }
                                ]
                            },
                            "data": [
                                {
                                    "project_id": "2",
                                    "project_type": "Cooking",
                                    "project_name": "Create a Vegan Pasta Dish",
                                    "planned_start_date": "2023-08-25",
                                    "estimated_completion_date": "2023-08-25",
                                    "description": "Make a Alfredo sauce for preparing pasta",
                                    "ingredients": "List of ingredients...",
                                    "notes": "Experiment with different vegan cheeses.",
                                    "materials": "flour,oil,salt",
                                    "tools": "pizza cutter,wooden plate"
                                },
                                {
                                    "project_id": "3",
                                    "project_type": "Woodworking",
                                    "project_name": "Build a Rustic Bookshelf",
                                    "planned_start_date": "2023-10-15",
                                    "estimated_completion_date": "2023-10-30",
                                    "description": "NULL",
                                    "ingredients": "NULL",
                                    "notes": "NULL",
                                    "materials": "List of materials...",
                                    "tools": "List of tools..."
                                }
                            ]
                        },
                        "text/html": [
                            "<table>",
                            "<tr><th>project_id</th><th>project_type</th><th>project_name</th><th>planned_start_date</th><th>estimated_completion_date</th><th>description</th><th>ingredients</th><th>notes</th><th>materials</th><th>tools</th></tr>",
                            "<tr><td>2</td><td>Cooking</td><td>Create a Vegan Pasta Dish</td><td>2023-08-25</td><td>2023-08-25</td><td>Make a Alfredo sauce for preparing pasta</td><td>List of ingredients...</td><td>Experiment with different vegan cheeses.</td><td>flour,oil,salt</td><td>pizza cutter,wooden plate</td></tr>",
                            "<tr><td>3</td><td>Woodworking</td><td>Build a Rustic Bookshelf</td><td>2023-10-15</td><td>2023-10-30</td><td>NULL</td><td>NULL</td><td>NULL</td><td>List of materials...</td><td>List of tools...</td></tr>",
                            "</table>"
                        ]
                    }
                }
            ],
            "execution_count": 16
        },
        {
            "cell_type": "markdown",
            "source": [
                "## Drop the Table\n",
                "\n",
                "While this has been fun, it is time to drop the table!"
            ],
            "metadata": {
                "azdata_cell_guid": "2239cb09-137b-4579-905b-1aa020793181"
            },
            "attachments": {}
        },
        {
            "cell_type": "code",
            "source": [
                "drop table JunkDB_STL_May2023.tejasvi.planned_makes"
            ],
            "metadata": {
                "azdata_cell_guid": "b3c7f6ea-ee26-46b3-9c2a-2f7a82c39699",
                "language": "sql"
            },
            "outputs": [
                {
                    "output_type": "display_data",
                    "data": {
                        "text/html": "Commands completed successfully."
                    },
                    "metadata": {}
                },
                {
                    "output_type": "display_data",
                    "data": {
                        "text/html": "Total execution time: 00:00:00.044"
                    },
                    "metadata": {}
                }
            ],
            "execution_count": 17
        },
        {
            "cell_type": "code",
            "source": [
                "select * from JunkDB_STL_May2023.tejasvi.planned_makes"
            ],
            "metadata": {
                "language": "sql",
                "azdata_cell_guid": "56588f4c-5c32-4b3a-8ca3-b2332664a330"
            },
            "outputs": [
{
    "output_type": "error",
    "evalue": "Msg 208, Level 16, State 1, Line 1\r\nInvalid object name 'JunkDB_STL_May2023.tejasvi.planned_makes'.",
    "ename": "",
    "traceback": []
}, {
    "output_type": "display_data",
    "data": {
        "text/html": "Total execution time: 00:00:00.041"
    },
    "metadata": {}
}
],
            "execution_count": 18
        }
    ]
}